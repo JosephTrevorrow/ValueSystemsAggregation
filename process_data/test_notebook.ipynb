{
 "cells": [
  {
   "cell_type": "code",
   "execution_count": 9,
   "metadata": {},
   "outputs": [],
   "source": [
    "import matplotlib.pyplot as plt\n",
    "import seaborn as sns\n",
    "import pandas as pd\n",
    "import numpy as np\n",
    "import csv\n",
    "from collections import defaultdict"
   ]
  },
  {
   "cell_type": "code",
   "execution_count": 10,
   "metadata": {},
   "outputs": [],
   "source": [
    "def split_into_size_groups(data: pd.DataFrame):\n",
    "    # This function splits up the dataframe into 3 corresponding to the sizes of 25x4, 10x10, and 4x25 for analysis by group\n",
    "\n",
    "    # Contexts' 0-24 are the first 25x4, contexts' 25-34 are the first 10x10, contexts' 35-38 are the first 4x25. then the context value resets\n",
    "    #   to 0 and this continues\n",
    "    df_list = []\n",
    "    size_groups = [(0, 25), (25, 35), (35, 39)]\n",
    "    for start, end in size_groups:\n",
    "        df_group = data[(data['context'] >= start) & (data['context'] < end)].reset_index(drop=True)\n",
    "        df_list.append(df_group)\n",
    "\n",
    "    return df_list"
   ]
  },
  {
   "cell_type": "code",
   "execution_count": 11,
   "metadata": {},
   "outputs": [],
   "source": [
    "def unpack_data(filename: str):\n",
    "    df = pd.read_csv(filename)\n",
    "    return df"
   ]
  },
  {
   "cell_type": "code",
   "execution_count": 12,
   "metadata": {},
   "outputs": [
    {
     "name": "stdout",
     "output_type": "stream",
     "text": [
      "DEBUG: Unpacking data\n"
     ]
    }
   ],
   "source": [
    "print(\"DEBUG: Unpacking data\")\n",
    "plot_savename = \"/home/ia23938/Documents/GitHub/ValueSystemsAggregation/bluepebble_plots/\"\n",
    "results_path = \"/home/ia23938/Documents/GitHub/ValueSystemsAggregation/bluepebble_runs/experiment_results_2024-09-27/\"\n",
    "results_filename = {'egal': \"egal_society/egal_societyegal_society.csv\", 'norm': \"norm_society/norm_societynorm_society.csv\", \"util\": \"util_society/util_societyutil_society.csv\", \"random\": \"rand_society/rand_societyrand_society.csv\"}\n",
    "\n",
    "data = unpack_data(results_path + results_filename[\"util\"])\n",
    "\n",
    "#data = split_into_size_groups(data)\n",
    "\n",
    "#data[0]\n",
    "\n",
    "#for name, filename in results_filename.items():\n",
    "#    data = unpack_data(results_path + filename)\n"
   ]
  },
  {
   "cell_type": "markdown",
   "metadata": {},
   "source": [
    "### Max/Min over time"
   ]
  },
  {
   "cell_type": "code",
   "execution_count": 13,
   "metadata": {},
   "outputs": [
    {
     "name": "stdout",
     "output_type": "stream",
     "text": [
      "group max is:        context  p_value  agent  satisfaction  group\n",
      "0           0        0    0.0      0.021147      1\n",
      "1           1        0    0.0      0.664921      2\n",
      "2           2        0    0.0      0.204440      3\n",
      "3           3        0    0.0      0.916383      4\n",
      "4           4        0    0.0      0.608712      5\n",
      "...       ...      ...    ...           ...    ...\n",
      "3871       34        0   99.0      0.538164   3872\n",
      "3872       35        0   99.0      0.428489   3873\n",
      "3873       36        0   99.0      0.387305   3874\n",
      "3874       37        0   99.0      0.360441   3875\n",
      "3875       38        0   99.0      0.441942   3876\n",
      "\n",
      "[3876 rows x 5 columns]\n",
      "group min is:        context  p_value  agent  satisfaction  group\n",
      "0           0        0    0.0      0.021147      1\n",
      "1           1        0    0.0      0.065461      2\n",
      "2           2        0    0.0      0.023643      3\n",
      "3           3        0    0.0      0.044744      4\n",
      "4           4        0    0.0      0.142438      5\n",
      "...       ...      ...    ...           ...    ...\n",
      "3871       34        0   99.0      0.140495   3872\n",
      "3872       35        0   99.0      0.008957   3873\n",
      "3873       36        0   99.0      0.001726   3874\n",
      "3874       37        0   99.0      0.015601   3875\n",
      "3875       38        0   99.0      0.002691   3876\n",
      "\n",
      "[3876 rows x 5 columns]\n",
      "group max is:        context  p_value  agent  satisfaction  group\n",
      "0           0        1    0.0      0.035099      1\n",
      "1           1        1    0.0      0.636045      2\n",
      "2           2        1    0.0      0.360564      3\n",
      "3           3        1    0.0      0.657894      4\n",
      "4           4        1    0.0      0.493444      5\n",
      "...       ...      ...    ...           ...    ...\n",
      "3871       34        1   99.0      0.618248   3872\n",
      "3872       35        1   99.0      0.451607   3873\n",
      "3873       36        1   99.0      0.461636   3874\n",
      "3874       37        1   99.0      0.315321   3875\n",
      "3875       38        1   99.0      0.393182   3876\n",
      "\n",
      "[3876 rows x 5 columns]\n",
      "group min is:        context  p_value  agent  satisfaction  group\n",
      "0           0        1    0.0      0.035099      1\n",
      "1           1        1    0.0      0.001519      2\n",
      "2           2        1    0.0      0.006096      3\n",
      "3           3        1    0.0      0.181572      4\n",
      "4           4        1    0.0      0.106209      5\n",
      "...       ...      ...    ...           ...    ...\n",
      "3871       34        1   99.0      0.009425   3872\n",
      "3872       35        1   99.0      0.001497   3873\n",
      "3873       36        1   99.0      0.001055   3874\n",
      "3874       37        1   99.0      0.009254   3875\n",
      "3875       38        1   99.0      0.003172   3876\n",
      "\n",
      "[3876 rows x 5 columns]\n",
      "group max is:        context  p_value  agent  satisfaction  group\n",
      "0           0        2    0.0      0.000708      1\n",
      "1           1        2    0.0      0.647165      2\n",
      "2           2        2    0.0      0.273832      3\n",
      "3           3        2    0.0      0.804525      4\n",
      "4           4        2    0.0      0.514689      5\n",
      "...       ...      ...    ...           ...    ...\n",
      "3871       34        2   99.0      0.594822   3872\n",
      "3872       35        2   99.0      0.416790   3873\n",
      "3873       36        2   99.0      0.432921   3874\n",
      "3874       37        2   99.0      0.351669   3875\n",
      "3875       38        2   99.0      0.381622   3876\n",
      "\n",
      "[3876 rows x 5 columns]\n",
      "group min is:        context  p_value  agent  satisfaction  group\n",
      "0           0        2    0.0      0.000708      1\n",
      "1           1        2    0.0      0.047329      2\n",
      "2           2        2    0.0      0.010813      3\n",
      "3           3        2    0.0      0.108782      4\n",
      "4           4        2    0.0      0.175611      5\n",
      "...       ...      ...    ...           ...    ...\n",
      "3871       34        2   99.0      0.052549   3872\n",
      "3872       35        2   99.0      0.011314   3873\n",
      "3873       36        2   99.0      0.013167   3874\n",
      "3874       37        2   99.0      0.002730   3875\n",
      "3875       38        2   99.0      0.008140   3876\n",
      "\n",
      "[3876 rows x 5 columns]\n",
      "group max is:        context  p_value  agent  satisfaction  group\n",
      "0           0        3    0.0      0.002974      1\n",
      "1           1        3    0.0      0.652624      2\n",
      "2           2        3    0.0      0.280932      3\n",
      "3           3        3    0.0      0.849674      4\n",
      "4           4        3    0.0      0.549285      5\n",
      "...       ...      ...    ...           ...    ...\n",
      "3871       34        3   99.0      0.560588   3872\n",
      "3872       35        3   99.0      0.419400   3873\n",
      "3873       36        3   99.0      0.426519   3874\n",
      "3874       37        3   99.0      0.305501   3875\n",
      "3875       38        3   99.0      0.436461   3876\n",
      "\n",
      "[3876 rows x 5 columns]\n",
      "group min is:        context  p_value  agent  satisfaction  group\n",
      "0           0        3    0.0      0.002974      1\n",
      "1           1        3    0.0      0.055790      2\n",
      "2           2        3    0.0      0.016957      3\n",
      "3           3        3    0.0      0.030512      4\n",
      "4           4        3    0.0      0.156052      5\n",
      "...       ...      ...    ...           ...    ...\n",
      "3871       34        3   99.0      0.062687   3872\n",
      "3872       35        3   99.0      0.000540   3873\n",
      "3873       36        3   99.0      0.008110   3874\n",
      "3874       37        3   99.0      0.004937   3875\n",
      "3875       38        3   99.0      0.004278   3876\n",
      "\n",
      "[3876 rows x 5 columns]\n"
     ]
    }
   ],
   "source": [
    "\"\"\"\n",
    "For every context, find the agent that is the worst off in terms of divergence, and store as a list\n",
    "see if one agent (or a small group of agents in a minority) are consistently the worst off\n",
    "\"\"\"\n",
    "df_dict = {}\n",
    "unique_p_values = data['p_value'].unique()\n",
    "# Split the DataFrame by P_Value\n",
    "for p_value in unique_p_values:\n",
    "    df_dict[f'df_p_{p_value}'] = data[data['p_value'] == p_value].reset_index(drop=True)\n",
    "for key in df_dict.keys():\n",
    "    df_dict[key] = df_dict[key].sort_values(by=['agent', 'context']).reset_index(drop=True)\n",
    "results_dict = {}\n",
    "# Iterate over each DataFrame in df_dict\n",
    "for key, df in df_dict.items():\n",
    "    # Group by 'context'\n",
    "    grouped = df.groupby('context')\n",
    "    max_min_list = []\n",
    "    for name, group in grouped:\n",
    "        max_row = group.loc[group['satisfaction'].idxmax()]\n",
    "        min_row = group.loc[group['satisfaction'].idxmin()]\n",
    "        max_min_list.append({\n",
    "            'context': name,\n",
    "            'agent_max': max_row['agent'],\n",
    "            'satisfaction_max': max_row['satisfaction'],\n",
    "            'agent_min': min_row['agent'],\n",
    "            'satisfaction_min': min_row['satisfaction']\n",
    "        })\n",
    "    results_dict[key] = pd.DataFrame(max_min_list)\n",
    "\n",
    "# Save results_dict to a .csv file\n",
    "for key, df in results_dict.items():\n",
    "    df.to_csv(f\"{key}_results.csv\", index=False)\n"
   ]
  },
  {
   "cell_type": "code",
   "execution_count": 14,
   "metadata": {},
   "outputs": [
    {
     "ename": "KeyError",
     "evalue": "'df_p_0_1'",
     "output_type": "error",
     "traceback": [
      "\u001b[0;31m---------------------------------------------------------------------------\u001b[0m",
      "\u001b[0;31mKeyError\u001b[0m                                  Traceback (most recent call last)",
      "Cell \u001b[0;32mIn[14], line 1\u001b[0m\n\u001b[0;32m----> 1\u001b[0m \u001b[43mresults_dict\u001b[49m\u001b[43m[\u001b[49m\u001b[38;5;124;43m'\u001b[39;49m\u001b[38;5;124;43mdf_p_0_1\u001b[39;49m\u001b[38;5;124;43m'\u001b[39;49m\u001b[43m]\u001b[49m\n",
      "\u001b[0;31mKeyError\u001b[0m: 'df_p_0_1'"
     ]
    }
   ],
   "source": [
    "results_dict['df_p_0_1']"
   ]
  },
  {
   "cell_type": "markdown",
   "metadata": {},
   "source": [
    "## Cumulative Divergence"
   ]
  },
  {
   "cell_type": "code",
   "execution_count": 46,
   "metadata": {},
   "outputs": [
    {
     "name": "stdout",
     "output_type": "stream",
     "text": [
      "unique_p_values:  [0 1 2 3]\n",
      "Df keys:  dict_keys(['df_p_0', 'df_p_1', 'df_p_2', 'df_p_3'])\n"
     ]
    }
   ],
   "source": [
    "df_dict = {}\n",
    "unique_p_values = data['p_value'].unique()\n",
    "print(\"unique_p_values: \", unique_p_values)\n",
    "# Split the DataFrame by P_Value\n",
    "for p_value in unique_p_values:\n",
    "    df_dict[f'df_p_{p_value}'] = data[data['p_value'] == p_value].reset_index(drop=True)\n",
    "print(\"Df keys: \", df_dict.keys())"
   ]
  },
  {
   "cell_type": "code",
   "execution_count": 47,
   "metadata": {},
   "outputs": [
    {
     "name": "stdout",
     "output_type": "stream",
     "text": [
      "       context  p_value  agent  satisfaction\n",
      "0            0        0   78.0      0.193128\n",
      "1            0        0   69.0      0.123980\n",
      "2            0        0   68.0      0.326464\n",
      "3            0        0   25.0      0.022045\n",
      "4            1        0   41.0      0.162506\n",
      "...        ...      ...    ...           ...\n",
      "32395       38        0   42.0      0.185328\n",
      "32396       38        0   90.0      0.188128\n",
      "32397       38        0   23.0      0.209505\n",
      "32398       38        0   62.0      0.221764\n",
      "32399       38        0   89.0      0.027335\n",
      "\n",
      "[32400 rows x 4 columns]\n"
     ]
    }
   ],
   "source": [
    "print(df_dict['df_p_0'])"
   ]
  },
  {
   "cell_type": "code",
   "execution_count": 48,
   "metadata": {},
   "outputs": [
    {
     "name": "stdout",
     "output_type": "stream",
     "text": [
      "dict_keys(['df_p_0', 'df_p_1', 'df_p_2', 'df_p_3'])\n",
      "      context  satisfaction  p_value\n",
      "0           0      0.665617        0\n",
      "1           1      1.076129        0\n",
      "2           2      1.176029        0\n",
      "3           3      1.294335        0\n",
      "4           4      1.594306        0\n",
      "...       ...           ...      ...\n",
      "4207       34      1.545451        0\n",
      "4208       35      5.131808        0\n",
      "4209       36      5.342436        0\n",
      "4210       37      4.751475        0\n",
      "4211       38      3.872615        0\n",
      "\n",
      "[4212 rows x 3 columns]\n"
     ]
    }
   ],
   "source": [
    "results_dict = {}\n",
    "# Iterate over each DataFrame in df_dict\n",
    "for key, df in df_dict.items():\n",
    "    # Group by continuous segments where 'context' is unchanging\n",
    "    df['group'] = (df['context'] != df['context'].shift()).cumsum()\n",
    "    # Sum the 'satisfaction' values for each group\n",
    "    grouped = df.groupby('group').agg({\n",
    "        'context': 'first',\n",
    "        'satisfaction': 'sum'\n",
    "    }).reset_index(drop=True)\n",
    "    \n",
    "    # Add the p_value to the grouped DataFrame\n",
    "    grouped['p_value'] = df['p_value'].iloc[0]\n",
    "    \n",
    "    # Store the result in the dictionary with p_value as the key\n",
    "    results_dict[f'df_p_{grouped[\"p_value\"].iloc[0]}'] = grouped\n",
    "\n",
    "# Print the keys of the results dictionary to verify\n",
    "print(results_dict.keys())\n",
    "print(results_dict['df_p_0'])"
   ]
  }
 ],
 "metadata": {
  "kernelspec": {
   "display_name": "value-agg",
   "language": "python",
   "name": "python3"
  },
  "language_info": {
   "codemirror_mode": {
    "name": "ipython",
    "version": 3
   },
   "file_extension": ".py",
   "mimetype": "text/x-python",
   "name": "python",
   "nbconvert_exporter": "python",
   "pygments_lexer": "ipython3",
   "version": "3.11.9"
  }
 },
 "nbformat": 4,
 "nbformat_minor": 2
}
