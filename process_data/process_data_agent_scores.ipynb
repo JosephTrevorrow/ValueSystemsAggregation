{
 "cells": [
  {
   "cell_type": "markdown",
   "metadata": {},
   "source": [
    "### Process_data_agent_scores.ipynb\n",
    "\n",
    "This notebook runs through each agent in a file, and finds the decision that is most ideal for that agent and saves this to a file"
   ]
  },
  {
   "cell_type": "code",
   "execution_count": 32,
   "metadata": {},
   "outputs": [],
   "source": [
    "import pandas as pd\n",
    "\n",
    "filename = \"/home/ia23938/Documents/GitHub/ValueSystemsAggregation/data/ess_example_data/processed_data_ess.csv\"\n",
    "savename = \"/home/ia23938/Documents/GitHub/ValueSystemsAggregation/data/ess_example_data/processed_data_ess_with_decisions.csv\""
   ]
  },
  {
   "cell_type": "code",
   "execution_count": 33,
   "metadata": {},
   "outputs": [],
   "source": [
    "# Compute decision\n",
    "df = pd.read_csv(filename)\n",
    "for index, row in df.iterrows():\n",
    "    df.at[index, 'rel-nonrel'] = row['rel'] / (row['rel'] + row['nonrel'])\n",
    "    df.at[index, 'nonrel-rel'] = row['nonrel'] / (row['rel'] + row['nonrel'])\n",
    "    df.at[index, 'decision'] = (df.at[index, 'rel-nonrel'] * row['a_div_rel']) + (df.at[index, 'nonrel-rel'] * row['a_div_nonrel'])\n",
    "\n",
    "#df.to_csv(savename)"
   ]
  },
  {
   "cell_type": "markdown",
   "metadata": {},
   "source": [
    "#### Grab consensus value system and store decisions for each relevant consensus"
   ]
  },
  {
   "cell_type": "code",
   "execution_count": 34,
   "metadata": {},
   "outputs": [],
   "source": [
    "relevent_consensuses =  [1.0, 1.1, 1.5, 4.0, 10.0]\n",
    "relevent_columns = ['p','Rel-Nonrel', 'Nonrel-Rel', 'Rel_div_p', 'Nonrel_div_p']\n",
    "preference_filename = \"/home/ia23938/Documents/GitHub/ValueSystemsAggregation/data/ess_example_data/23-10-example-preference-results.csv\"\n",
    "actions_filename = \"/home/ia23938/Documents/GitHub/ValueSystemsAggregation/data/ess_example_data/23-10-example-action-results.csv\"\n",
    "\n",
    "final_df_savename = \"/home/ia23938/Documents/GitHub/ValueSystemsAggregation/data/ess_example_data/30-10-ess-relevant-consensus.csv\"\n",
    "\n",
    "pref_df = pd.read_csv(preference_filename)\n",
    "act_df = pd.read_csv(actions_filename)\n",
    "cons_df = pd.merge(pref_df, act_df, on='p')\n",
    "cons_df['p'] = cons_df['p'].round(1)\n",
    "final_df = pd.DataFrame()\n",
    "for consensus in relevent_consensuses:\n",
    "    filtered_df = cons_df[cons_df['p'] == consensus][relevent_columns]\n",
    "    filtered_df['decision'] = (filtered_df['Rel_div_p'] * filtered_df['Rel-Nonrel']) + (filtered_df['Nonrel_div_p'] * filtered_df['Nonrel-Rel'])\n",
    "    final_df = pd.concat([final_df, filtered_df], ignore_index=True)\n",
    "final_df.to_csv(final_df_savename)"
   ]
  },
  {
   "cell_type": "markdown",
   "metadata": {},
   "source": [
    "#### Find the difference between each agent and each of the 4 different strategies (only on decision)\n",
    "\n",
    "For every agent that has a value system that we have just generated, we now compare the agents decision against the different decisions found by each strategy."
   ]
  },
  {
   "cell_type": "code",
   "execution_count": 37,
   "metadata": {},
   "outputs": [
    {
     "name": "stdout",
     "output_type": "stream",
     "text": [
      "closest_p\n",
      "1.5     11\n",
      "1.0      7\n",
      "10.0     3\n",
      "4.0      1\n",
      "1.1      1\n",
      "Name: count, dtype: int64\n"
     ]
    }
   ],
   "source": [
    "agent_df = df\n",
    "strategy_df = final_df\n",
    "agent_df['min_distance'] = agent_df.apply(\n",
    "    lambda row: min(abs(row['decision'] - strategy_decision) for strategy_decision in strategy_df['decision']),\n",
    "    axis=1\n",
    ")\n",
    "\n",
    "agent_df['closest_p'] = agent_df.apply(\n",
    "    lambda row: strategy_df.loc[(strategy_df['decision'] - row['decision']).abs().idxmin(), 'p'],\n",
    "    axis=1\n",
    ")\n",
    "\n",
    "agent_df\n",
    "\n",
    "print(agent_df['closest_p'].value_counts())\n",
    "\n"
   ]
  }
 ],
 "metadata": {
  "kernelspec": {
   "display_name": "value-agg",
   "language": "python",
   "name": "python3"
  },
  "language_info": {
   "codemirror_mode": {
    "name": "ipython",
    "version": 3
   },
   "file_extension": ".py",
   "mimetype": "text/x-python",
   "name": "python",
   "nbconvert_exporter": "python",
   "pygments_lexer": "ipython3",
   "version": "3.11.9"
  }
 },
 "nbformat": 4,
 "nbformat_minor": 2
}
