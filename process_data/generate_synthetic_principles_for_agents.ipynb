{
 "cells": [
  {
   "cell_type": "markdown",
   "metadata": {},
   "source": [
    "### generate_synthetic_principles_for_agents.ipynb\n",
    "This notebook generates an agents synthetic principles for use in HCVA and stores these in a `.csv` file\n",
    "- Takes an individual agents value system\n",
    "    - finds the decision they would take, and assigns the agent an ethical principle that fits with their view, or is the opposite of their view according to some probability $p$"
   ]
  },
  {
   "cell_type": "code",
   "execution_count": 109,
   "metadata": {},
   "outputs": [],
   "source": [
    "import pandas as pd\n",
    "import numpy as np\n",
    "\n",
    "#####\n",
    "# 08/01/2025: 1.0 = Utilitarian, 1.4 = Transition point, 10.0 = Egalitarian\n",
    "###\n",
    "relevent_consensuses = [round(x * 0.1, 1) for x in range(10, 101)]\n",
    "relevant_columns = ['p','Rel-Nonrel', 'Nonrel-Rel', 'Rel_div_p', 'Nonrel_div_p', 'Egal-Util', 'Util-Egal']\n",
    "\n",
    "actions_filename = \"/home/ia23938/Documents/GitHub/ValueSystemsAggregation/data/ess_example_data/single_example_results/single_example/08-01-2025-actions.csv\"\n",
    "preference_filename = '/home/ia23938/Documents/GitHub/ValueSystemsAggregation/data/ess_example_data/single_example_results/single_example/08-01-2025-preferences.csv'\n",
    "\n",
    "final_df_savename = \"/home/ia23938/Documents/GitHub/ValueSystemsAggregation/data/ess_example_data/10-01-2025-ess-relevant-consensus.csv\"\n",
    "\n",
    "pref_df = pd.read_csv(preference_filename)\n",
    "act_df = pd.read_csv(actions_filename)\n",
    "cons_df = pd.merge(pref_df, act_df, on='p')\n",
    "cons_df['p'] = cons_df['p'].round(1)"
   ]
  },
  {
   "cell_type": "code",
   "execution_count": 110,
   "metadata": {},
   "outputs": [
    {
     "name": "stdout",
     "output_type": "stream",
     "text": [
      "       p  Rel-Nonrel  Nonrel-Rel  Rel_div_p  Nonrel_div_p  Egal-Util  Util-Egal  decision\n",
      "0    1.0    0.346411    0.653589   0.001517      0.028995   0.000000   1.000000  0.019476\n",
      "1    1.1    0.346043    0.653957  -0.006315      0.028138   0.011111   0.988889  0.016216\n",
      "2    1.2    0.345798    0.654202  -0.014573      0.022175   0.022222   0.977778  0.009468\n",
      "3    1.3    0.345695    0.654305  -0.018456      0.018935   0.033333   0.966667  0.006009\n",
      "4    1.4    0.345776    0.654224  -0.020717      0.017142   0.044444   0.955556  0.004051\n",
      "5    1.5    0.346117    0.653883  -0.022280      0.016003   0.055556   0.944444  0.002753\n",
      "6    1.6    0.346774    0.653226  -0.023652      0.015134   0.066667   0.933333  0.001684\n",
      "7    1.7    0.347730    0.652270  -0.024931      0.014435   0.077778   0.922222  0.000746\n",
      "8    1.8    0.349271    0.650729  -0.026228      0.013833   0.088889   0.911111 -0.000159\n",
      "9    1.9    0.350279    0.649721  -0.026999      0.013505   0.100000   0.900000 -0.000682\n",
      "10   2.0    0.351466    0.648534  -0.027939      0.013171   0.111111   0.888889 -0.001278\n",
      "11   2.1    0.352679    0.647321  -0.028942      0.012870   0.122222   0.877778 -0.001876\n",
      "12   2.2    0.353782    0.646218  -0.029904      0.012629   0.133333   0.866667 -0.002419\n",
      "13   2.3    0.354782    0.645218  -0.030827      0.012441   0.144444   0.855556 -0.002910\n",
      "14   2.4    0.355688    0.644312  -0.031707      0.012301   0.155556   0.844444 -0.003352\n",
      "15   2.5    0.356508    0.643492  -0.032542      0.012203   0.166667   0.833333 -0.003749\n",
      "16   2.6    0.357253    0.642747  -0.033330      0.012141   0.177778   0.822222 -0.004104\n",
      "17   2.7    0.357931    0.642069  -0.034071      0.012112   0.188889   0.811111 -0.004419\n",
      "18   2.8    0.358550    0.641450  -0.034764      0.012109   0.200000   0.800000 -0.004698\n",
      "19   2.9    0.359117    0.640883  -0.035411      0.012128   0.211111   0.788889 -0.004944\n",
      "20   3.0    0.359640    0.640360  -0.036015      0.012166   0.222222   0.777778 -0.005162\n",
      "21   3.1    0.360125    0.639875  -0.036577      0.012217   0.233333   0.766667 -0.005355\n",
      "22   3.2    0.360575    0.639425  -0.037102      0.012278   0.244444   0.755556 -0.005527\n",
      "23   3.3    0.360995    0.639005  -0.037593      0.012347   0.255556   0.744444 -0.005681\n",
      "24   3.4    0.361388    0.638612  -0.038054      0.012419   0.266667   0.733333 -0.005821\n",
      "25   3.5    0.361757    0.638243  -0.038489      0.012493   0.277778   0.722222 -0.005950\n",
      "26   3.6    0.362104    0.637896  -0.038901      0.012566   0.288889   0.711111 -0.006070\n",
      "27   3.7    0.362431    0.637569  -0.039293      0.012637   0.300000   0.700000 -0.006184\n",
      "28   3.8    0.362741    0.637259  -0.039669      0.012704   0.311111   0.688889 -0.006294\n",
      "29   3.9    0.363035    0.636965  -0.040030      0.012767   0.322222   0.677778 -0.006400\n",
      "30   4.0    0.363314    0.636686  -0.040378      0.012824   0.333333   0.666667 -0.006505\n",
      "31   4.1    0.363580    0.636420  -0.040717      0.012875   0.344444   0.655556 -0.006610\n",
      "32   4.2    0.363834    0.636166  -0.041047      0.012920   0.355556   0.644444 -0.006715\n",
      "33   4.3    0.364077    0.635923  -0.041369      0.012957   0.366667   0.633333 -0.006822\n",
      "34   4.4    0.364310    0.635690  -0.041685      0.012989   0.377778   0.622222 -0.006930\n",
      "35   4.5    0.364535    0.635465  -0.041996      0.013013   0.388889   0.611111 -0.007040\n",
      "36   4.6    0.364751    0.635249  -0.042301      0.013031   0.400000   0.600000 -0.007152\n",
      "37   4.7    0.364960    0.635040  -0.042603      0.013042   0.411111   0.588889 -0.007266\n",
      "38   4.8    0.365161    0.634839  -0.042900      0.013047   0.422222   0.577778 -0.007382\n",
      "39   4.9    0.365357    0.634643  -0.043193      0.013046   0.433333   0.566667 -0.007501\n",
      "40   5.0    0.365547    0.634453  -0.043482      0.013039   0.444444   0.555556 -0.007622\n",
      "41   5.1    0.365733    0.634267  -0.043768      0.013027   0.455556   0.544444 -0.007745\n",
      "42   5.2    0.365913    0.634087  -0.044050      0.013010   0.466667   0.533333 -0.007869\n",
      "43   5.3    0.366089    0.633911  -0.044329      0.012988   0.477778   0.522222 -0.007995\n",
      "44   5.4    0.366261    0.633739  -0.044603      0.012962   0.488889   0.511111 -0.008122\n",
      "45   5.5    0.366429    0.633571  -0.044874      0.012932   0.500000   0.500000 -0.008250\n",
      "46   5.6    0.366594    0.633406  -0.045140      0.012897   0.511111   0.488889 -0.008379\n",
      "47   5.7    0.366756    0.633244  -0.045403      0.012860   0.522222   0.477778 -0.008508\n",
      "48   5.8    0.366915    0.633085  -0.045661      0.012819   0.533333   0.466667 -0.008638\n",
      "49   5.9    0.367071    0.632929  -0.045915      0.012775   0.544444   0.455556 -0.008768\n",
      "50   6.0    0.367224    0.632776  -0.046164      0.012729   0.555556   0.444444 -0.008898\n",
      "51   6.1    0.367375    0.632625  -0.046408      0.012680   0.566667   0.433333 -0.009028\n",
      "52   6.2    0.367524    0.632476  -0.046648      0.012629   0.577778   0.422222 -0.009157\n",
      "53   6.3    0.367670    0.632330  -0.046883      0.012576   0.588889   0.411111 -0.009285\n",
      "54   6.4    0.367815    0.632185  -0.047113      0.012522   0.600000   0.400000 -0.009413\n",
      "55   6.5    0.367957    0.632043  -0.047338      0.012466   0.611111   0.388889 -0.009539\n",
      "56   6.6    0.368097    0.631903  -0.047557      0.012409   0.622222   0.377778 -0.009664\n",
      "57   6.7    0.368236    0.631764  -0.047772      0.012351   0.633333   0.366667 -0.009788\n",
      "58   6.8    0.368372    0.631628  -0.047981      0.012292   0.644444   0.355556 -0.009911\n",
      "59   6.9    0.368507    0.631493  -0.048186      0.012232   0.655556   0.344444 -0.010032\n",
      "60   7.0    0.368640    0.631360  -0.048385      0.012172   0.666667   0.333333 -0.010152\n",
      "61   7.1    0.368771    0.631229  -0.048579      0.012111   0.677778   0.322222 -0.010270\n",
      "62   7.2    0.368901    0.631099  -0.048768      0.012050   0.688889   0.311111 -0.010386\n",
      "63   7.3    0.369028    0.630972  -0.048952      0.011989   0.700000   0.300000 -0.010500\n",
      "64   7.4    0.369154    0.630846  -0.049131      0.011928   0.711111   0.288889 -0.010612\n",
      "65   7.5    0.369279    0.630721  -0.049305      0.011867   0.722222   0.277778 -0.010723\n",
      "66   7.6    0.369402    0.630598  -0.049474      0.011806   0.733333   0.266667 -0.010831\n",
      "67   7.7    0.369523    0.630477  -0.049638      0.011745   0.744444   0.255556 -0.010938\n",
      "68   7.8    0.369643    0.630357  -0.049798      0.011684   0.755556   0.244444 -0.011042\n",
      "69   7.9    0.369761    0.630239  -0.049952      0.011624   0.766667   0.233333 -0.011144\n",
      "70   8.0    0.369877    0.630123  -0.050103      0.011565   0.777778   0.222222 -0.011245\n",
      "71   8.1    0.369992    0.630008  -0.050249      0.011506   0.788889   0.211111 -0.011343\n",
      "72   8.2    0.370106    0.629894  -0.050390      0.011447   0.800000   0.200000 -0.011439\n",
      "73   8.3    0.370217    0.629783  -0.050527      0.011389   0.811111   0.188889 -0.011533\n",
      "74   8.4    0.370328    0.629672  -0.050660      0.011332   0.822222   0.177778 -0.011626\n",
      "75   8.5    0.370436    0.629564  -0.050789      0.011275   0.833333   0.166667 -0.011716\n",
      "76   8.6    0.370544    0.629456  -0.050913      0.011219   0.844444   0.155556 -0.011804\n",
      "77   8.7    0.370649    0.629351  -0.051034      0.011164   0.855556   0.144444 -0.011890\n",
      "78   8.8    0.370754    0.629246  -0.051151      0.011110   0.866667   0.133333 -0.011974\n",
      "79   8.9    0.370857    0.629143  -0.051265      0.011056   0.877778   0.122222 -0.012056\n",
      "80   9.0    0.370958    0.629042  -0.051375      0.011003   0.888889   0.111111 -0.012136\n",
      "81   9.1    0.371058    0.628942  -0.051481      0.010951   0.900000   0.100000 -0.012215\n",
      "82   9.2    0.371156    0.628844  -0.051584      0.010900   0.911111   0.088889 -0.012291\n",
      "83   9.3    0.371253    0.628747  -0.051683      0.010850   0.922222   0.077778 -0.012365\n",
      "84   9.4    0.371349    0.628651  -0.051779      0.010801   0.933333   0.066667 -0.012438\n",
      "85   9.5    0.371443    0.628557  -0.051873      0.010753   0.944444   0.055556 -0.012509\n",
      "86   9.6    0.371536    0.628464  -0.051963      0.010705   0.955556   0.044444 -0.012578\n",
      "87   9.7    0.371627    0.628373  -0.052050      0.010659   0.966667   0.033333 -0.012646\n",
      "88   9.8    0.371717    0.628283  -0.052134      0.010613   0.977778   0.022222 -0.012711\n",
      "89   9.9    0.371806    0.628194  -0.052216      0.010568   0.988889   0.011111 -0.012775\n",
      "90  10.0    0.371893    0.628107  -0.052295      0.010524   1.000000   0.000000 -0.012838\n"
     ]
    },
    {
     "data": {
      "image/png": "[encoded data removed]",
      "text/plain": [
       "<Figure size 600x200 with 1 Axes>"
      ]
     },
     "metadata": {},
     "output_type": "display_data"
    }
   ],
   "source": [
    "# for each row, find the corresponding Util-Egal and Egal-Util values (where P=1.0 has Util-Egal=1.0 and Egal-Util=0.0, and P=10.0 has Util-Egal=0.0 and Egal-Util=1.0)\n",
    "for index, row in cons_df.iterrows():\n",
    "    cons_df.at[index, 'Egal-Util'] = (row['p'] - 1) / 9\n",
    "    cons_df.at[index, 'Util-Egal'] = 1 - cons_df.at[index, 'Egal-Util']\n",
    "final_df = pd.DataFrame()\n",
    "for consensus in relevent_consensuses:\n",
    "    filtered_df = cons_df[cons_df['p'] == consensus][relevant_columns]\n",
    "    filtered_df['decision'] = (filtered_df['Rel_div_p'] * filtered_df['Rel-Nonrel']) + (filtered_df['Nonrel_div_p'] * filtered_df['Nonrel-Rel'])\n",
    "    final_df = pd.concat([final_df, filtered_df], ignore_index=True)\n",
    "final_df.to_csv(final_df_savename)\n",
    "print(final_df.to_string())\n",
    "\n",
    "import matplotlib.pyplot as plt\n",
    "\n",
    "plt.figure(figsize=(6, 2))\n",
    "plt.plot(final_df['p'], final_df['decision'], marker='o', linestyle='-', color='b')\n",
    "plt.xlabel('p values')\n",
    "plt.ylabel('Decisions')\n",
    "plt.title('Decisions vs p values')\n",
    "plt.grid(True)\n",
    "plt.show()"
   ]
  },
  {
   "cell_type": "code",
   "execution_count": 111,
   "metadata": {
    "vscode": {
     "languageId": "ruby"
    }
   },
   "outputs": [
    {
     "name": "stdout",
     "output_type": "stream",
     "text": [
      "Positive Quartile p values: {'Q1': [1.6, 1.7], 'Q2': [1.4, 1.5], 'Q3': [1.2, 1.3], 'Q4': [1.0, 1.1]}\n",
      "Negative Quartile p values: {'Q1': [8.0, 8.1, 8.2, 8.3, 8.4, 8.5, 8.6, 8.7, 8.8, 8.9, 9.0, 9.1, 9.2, 9.3, 9.4, 9.5, 9.6, 9.7, 9.8, 9.9, 10.0], 'Q2': [5.9, 6.0, 6.1, 6.2, 6.3, 6.4, 6.5, 6.6, 6.7, 6.8, 6.9, 7.0, 7.1, 7.2, 7.3, 7.4, 7.5, 7.6, 7.7, 7.8, 7.9], 'Q3': [3.9, 4.0, 4.1, 4.2, 4.3, 4.4, 4.5, 4.6, 4.7, 4.8, 4.9, 5.0, 5.1, 5.2, 5.3, 5.4, 5.5, 5.6, 5.7, 5.8], 'Q4': [1.8, 1.9, 2.0, 2.1, 2.2, 2.3, 2.4, 2.5, 2.6, 2.7, 2.8, 2.9, 3.0, 3.1, 3.2, 3.3, 3.4, 3.5, 3.6, 3.7, 3.8]}\n"
     ]
    }
   ],
   "source": [
    "# Split final_df into two dataframes based on the decision column\n",
    "positive_df = final_df[final_df['decision'] > 0]\n",
    "negative_df = final_df[final_df['decision'] < 0]\n",
    "\n",
    "# Find quartile vals\n",
    "postive_quartiles = positive_df['decision'].quantile([0.25, 0.5, 0.75])\n",
    "negative_quartiles = negative_df['decision'].quantile([0.25, 0.5, 0.75])\n",
    "\n",
    "positive_quartile_p_values = {\n",
    "    'Q1': positive_df[positive_df['decision'] <= postive_quartiles[0.25]]['p'].tolist(),\n",
    "    'Q2': positive_df[(positive_df['decision'] > postive_quartiles[0.25]) & (positive_df['decision'] <= postive_quartiles[0.5])]['p'].tolist(),\n",
    "    'Q3': positive_df[(positive_df['decision'] > postive_quartiles[0.5]) & (positive_df['decision'] <= postive_quartiles[0.75])]['p'].tolist(),\n",
    "    'Q4': positive_df[positive_df['decision'] > postive_quartiles[0.75]]['p'].tolist()\n",
    "}\n",
    "\n",
    "negative_quartile_p_values = {\n",
    "    'Q1': negative_df[negative_df['decision'] <= negative_quartiles[0.25]]['p'].tolist(),\n",
    "    'Q2': negative_df[(negative_df['decision'] > negative_quartiles[0.25]) & (negative_df['decision'] <= negative_quartiles[0.5])]['p'].tolist(),\n",
    "    'Q3': negative_df[(negative_df['decision'] > negative_quartiles[0.5]) & (negative_df['decision'] <= negative_quartiles[0.75])]['p'].tolist(),\n",
    "    'Q4': negative_df[negative_df['decision'] > negative_quartiles[0.75]]['p'].tolist()\n",
    "}\n",
    "\n",
    "print(\"Positive Quartile p values:\", positive_quartile_p_values)\n",
    "print(\"Negative Quartile p values:\", negative_quartile_p_values)"
   ]
  },
  {
   "cell_type": "code",
   "execution_count": 112,
   "metadata": {},
   "outputs": [
    {
     "name": "stdout",
     "output_type": "stream",
     "text": [
      "  country   rel  nonrel  Rel-Nonrel  Nonrel-Rel  a_div_rel  a_div_nonrel  \\\n",
      "0      AT   642    1216    0.345533    0.654467   0.047767      0.112390   \n",
      "1      BE   621    1116    0.357513    0.642487  -0.063875     -0.054361   \n",
      "2      CH   767     666    0.535241    0.464759   0.150804      0.262262   \n",
      "3      CZ   577    1483    0.280097    0.719903   0.021375      0.028995   \n",
      "4      DE  1264    1488    0.459302    0.540698   0.002110      0.068100   \n",
      "\n",
      "   decision  \n",
      "0  0.090061  \n",
      "1 -0.057762  \n",
      "2  0.202605  \n",
      "3  0.026861  \n",
      "4  0.037791  \n"
     ]
    }
   ],
   "source": [
    "# Read in data\n",
    "agent_csv_file = \"/home/ia23938/Documents/GitHub/ValueSystemsAggregation/data/ess_example_data/single_example_results/single_example/08-01-2025-agent-data.csv\"\n",
    "df = pd.read_csv(agent_csv_file)\n",
    "for index, row in df.iterrows():\n",
    "    df.at[index, 'decision'] = (row['Rel-Nonrel'] * row['a_div_rel']) + (row['Nonrel-Rel'] * row['a_div_nonrel'])\n",
    "# sanity check\n",
    "print(df.head())"
   ]
  },
  {
   "cell_type": "code",
   "execution_count": 113,
   "metadata": {},
   "outputs": [],
   "source": [
    "def binary_principles(df):\n",
    "    df['decision'] = np.nan  # Initialize the 'decision' column\n",
    "\n",
    "    for index, row in df.iterrows():\n",
    "        df.at[index, 'decision'] = (row['rel-nonrel'] * row['a_div_rel']) + (row['nonrel-rel'] * row['a_div_nonrel'])\n",
    "        if df.at[index, 'decision'] < 0:\n",
    "            df.at[index, 'egal'] = 1\n",
    "            df.at[index, 'util'] = 0\n",
    "        else:\n",
    "            df.at[index, 'egal'] = 0\n",
    "            df.at[index, 'util'] = 1\n",
    "    return df\n",
    "\n",
    "def range_principles(df, against_scheme, for_scheme):\n",
    "    \"\"\"\n",
    "    This function calculates the decision based on the range of principles\n",
    "    - factor is calculated as a random p value the agent will hold. \n",
    "        The principle will be calculated from principles that are in support to the agents real choice\n",
    "    \"\"\"\n",
    "    for index, row in df.iterrows():\n",
    "        total_interviewees = row['rel'] + row['nonrel']\n",
    "\n",
    "        if df.at[index, 'decision'] < 0:\n",
    "            factor = np.random.choice(against_scheme)\n",
    "            egal = (factor / 10) * total_interviewees\n",
    "            util = total_interviewees - egal\n",
    "            egal = round(egal, 0)\n",
    "            util = round(util, 0)\n",
    "            # Factor is 1.0 then [egal, util] = [0, 1]\n",
    "            # Factor is 10.0 then [egal, util] = [1, 0]\n",
    "            # Factor is 1.8 then [egal, util] = [0.18, 0.82]\n",
    "\n",
    "            df.at[index, 'egal'] = egal\n",
    "            df.at[index, 'util'] = util\n",
    "        else:\n",
    "            factor = np.random.choice(for_scheme)\n",
    "            egal = (factor / 10) * total_interviewees\n",
    "            util = total_interviewees - egal\n",
    "            egal = round(egal, 0)\n",
    "            util = round(util, 0)\n",
    "            df.at[index, 'egal'] = egal\n",
    "            df.at[index, 'util'] = util\n",
    "    return df\n"
   ]
  },
  {
   "cell_type": "code",
   "execution_count": 114,
   "metadata": {},
   "outputs": [
    {
     "data": {
      "text/plain": [
       "'## Make general supporting principles\\nagainst_scheme = list(np.arange(1.8, 10.0, 0.1))\\nfor_scheme = list(np.arange(1.0, 1.7, 0.1))\\nagainst_scheme = [round(num, 1) for num in against_scheme]\\nfor_scheme = [round(num, 1) for num in for_scheme]\\n\\ndf = range_principles(df, against_scheme, for_scheme)\\nprint(df.head())\\n# Save the principles a file\\nprinciples_df = df[[\\'country\\', \\'egal\\', \\'util\\']]\\nprinciples_df.rename(columns={\\'egal\\': \\'rel\\', \\'util\\': \\'nonrel\\'}, inplace=True)\\n\\nprinciples_df.to_csv(\"/home/ia23938/Documents/GitHub/ValueSystemsAggregation/data/ess_example_data/single_example_results/single_example/15-01-2025-principles-3.csv\", index=False)\\n'"
      ]
     },
     "execution_count": 114,
     "metadata": {},
     "output_type": "execute_result"
    }
   ],
   "source": [
    "\"\"\"## Make general supporting principles\n",
    "against_scheme = list(np.arange(1.8, 10.0, 0.1))\n",
    "for_scheme = list(np.arange(1.0, 1.7, 0.1))\n",
    "against_scheme = [round(num, 1) for num in against_scheme]\n",
    "for_scheme = [round(num, 1) for num in for_scheme]\n",
    "\n",
    "df = range_principles(df, against_scheme, for_scheme)\n",
    "print(df.head())\n",
    "# Save the principles a file\n",
    "principles_df = df[['country', 'egal', 'util']]\n",
    "principles_df.rename(columns={'egal': 'rel', 'util': 'nonrel'}, inplace=True)\n",
    "\n",
    "principles_df.to_csv(\"/home/ia23938/Documents/GitHub/ValueSystemsAggregation/data/ess_example_data/single_example_results/single_example/15-01-2025-principles-3.csv\", index=False)\n",
    "\"\"\""
   ]
  },
  {
   "cell_type": "code",
   "execution_count": 115,
   "metadata": {},
   "outputs": [
    {
     "name": "stdout",
     "output_type": "stream",
     "text": [
      "[1.0, 1.1]\n",
      "[8.0, 8.1, 8.2, 8.3, 8.4, 8.5, 8.6, 8.7, 8.8, 8.9, 9.0, 9.1, 9.2, 9.3, 9.4, 9.5, 9.6, 9.7, 9.8, 9.9, 10.0]\n",
      "[1.6, 1.7]\n",
      "[1.8, 1.9, 2.0, 2.1, 2.2, 2.3, 2.4, 2.5, 2.6, 2.7, 2.8, 2.9, 3.0, 3.1, 3.2, 3.3, 3.4, 3.5, 3.6, 3.7, 3.8]\n"
     ]
    },
    {
     "name": "stderr",
     "output_type": "stream",
     "text": [
      "/tmp/ipykernel_227619/2474337772.py:10: SettingWithCopyWarning: \n",
      "A value is trying to be set on a copy of a slice from a DataFrame\n",
      "\n",
      "See the caveats in the documentation: https://pandas.pydata.org/pandas-docs/stable/user_guide/indexing.html#returning-a-view-versus-a-copy\n",
      "  principles_df.rename(columns={'egal': 'rel', 'util': 'nonrel'}, inplace=True)\n",
      "/tmp/ipykernel_227619/2474337772.py:19: SettingWithCopyWarning: \n",
      "A value is trying to be set on a copy of a slice from a DataFrame\n",
      "\n",
      "See the caveats in the documentation: https://pandas.pydata.org/pandas-docs/stable/user_guide/indexing.html#returning-a-view-versus-a-copy\n",
      "  principles_df.rename(columns={'egal': 'rel', 'util': 'nonrel'}, inplace=True)\n",
      "/tmp/ipykernel_227619/2474337772.py:29: SettingWithCopyWarning: \n",
      "A value is trying to be set on a copy of a slice from a DataFrame\n",
      "\n",
      "See the caveats in the documentation: https://pandas.pydata.org/pandas-docs/stable/user_guide/indexing.html#returning-a-view-versus-a-copy\n",
      "  principles_df.rename(columns={'egal': 'rel', 'util': 'nonrel'}, inplace=True)\n",
      "/tmp/ipykernel_227619/2474337772.py:40: SettingWithCopyWarning: \n",
      "A value is trying to be set on a copy of a slice from a DataFrame\n",
      "\n",
      "See the caveats in the documentation: https://pandas.pydata.org/pandas-docs/stable/user_guide/indexing.html#returning-a-view-versus-a-copy\n",
      "  principles_df.rename(columns={'egal': 'rel', 'util': 'nonrel'}, inplace=True)\n",
      "/tmp/ipykernel_227619/2474337772.py:51: SettingWithCopyWarning: \n",
      "A value is trying to be set on a copy of a slice from a DataFrame\n",
      "\n",
      "See the caveats in the documentation: https://pandas.pydata.org/pandas-docs/stable/user_guide/indexing.html#returning-a-view-versus-a-copy\n",
      "  principles_df.rename(columns={'egal': 'rel', 'util': 'nonrel'}, inplace=True)\n"
     ]
    }
   ],
   "source": [
    "###################\n",
    "# Make Test Cases #\n",
    "###################\n",
    "## Extreme Util (1): All agents are utilitarian\n",
    "for_scheme = [value for sublist in positive_quartile_p_values.values() for value in sublist]\n",
    "against_scheme = for_scheme\n",
    "df = range_principles(df, against_scheme, for_scheme)\n",
    "# Save the principles a file\n",
    "principles_df = df[['country', 'egal', 'util']]\n",
    "principles_df.rename(columns={'egal': 'rel', 'util': 'nonrel'}, inplace=True)\n",
    "principles_df.to_csv(\"/home/ia23938/Documents/GitHub/ValueSystemsAggregation/data/ess_example_data/single_example_results/single_example/15-01-2025-extreme-util-principles.csv\", index=False)\n",
    "\n",
    "## Extreme 2: All agents are egalitarian\n",
    "for_scheme = [value for sublist in negative_quartile_p_values.values() for value in sublist]\n",
    "against_scheme = for_scheme\n",
    "df = range_principles(df, against_scheme, for_scheme)\n",
    "# Save the principles a file\n",
    "principles_df = df[['country', 'egal', 'util']]\n",
    "principles_df.rename(columns={'egal': 'rel', 'util': 'nonrel'}, inplace=True)\n",
    "principles_df.to_csv(\"/home/ia23938/Documents/GitHub/ValueSystemsAggregation/data/ess_example_data/single_example_results/single_example/15-01-2025-extreme-egal-principles.csv\", index=False)\n",
    "\n",
    "# Random 1: Randomly assign agents to be utilitarian or egalitarian by any extent \n",
    "for_scheme = list(np.arange(1.0, 10.0, 0.1))\n",
    "for_scheme = [round(num, 1) for num in for_scheme]\n",
    "against_scheme = for_scheme\n",
    "df = range_principles(df, against_scheme, for_scheme)\n",
    "# Save the principles a file\n",
    "principles_df = df[['country', 'egal', 'util']]\n",
    "principles_df.rename(columns={'egal': 'rel', 'util': 'nonrel'}, inplace=True)\n",
    "principles_df.to_csv(\"/home/ia23938/Documents/GitHub/ValueSystemsAggregation/data/ess_example_data/single_example_results/single_example/15-01-2025-random-principles.csv\", index=False)\n",
    "\n",
    "# Quartile 1: Assign agents to be in top quartile utilitarian or egalitarian based on their decision (high investment)\n",
    "for_scheme = positive_quartile_p_values['Q4']\n",
    "against_scheme = negative_quartile_p_values['Q1']\n",
    "print(for_scheme)\n",
    "print(against_scheme)\n",
    "df = range_principles(df, against_scheme, for_scheme)\n",
    "# Save the principles a file\n",
    "principles_df = df[['country', 'egal', 'util']]\n",
    "principles_df.rename(columns={'egal': 'rel', 'util': 'nonrel'}, inplace=True)\n",
    "principles_df.to_csv(\"/home/ia23938/Documents/GitHub/ValueSystemsAggregation/data/ess_example_data/single_example_results/single_example/15-01-2025-top-quartile-principles.csv\", index=False)\n",
    "\n",
    "# Quartile 2: Assign agents to be in bottom quartile utilitarian or egalitarian based on their decision (low investment)\n",
    "for_scheme = positive_quartile_p_values['Q1']\n",
    "against_scheme = negative_quartile_p_values['Q4']\n",
    "print(for_scheme)\n",
    "print(against_scheme)\n",
    "df = range_principles(df, against_scheme, for_scheme)\n",
    "# Save the principles a file\n",
    "principles_df = df[['country', 'egal', 'util']]\n",
    "principles_df.rename(columns={'egal': 'rel', 'util': 'nonrel'}, inplace=True)\n",
    "principles_df.to_csv(\"/home/ia23938/Documents/GitHub/ValueSystemsAggregation/data/ess_example_data/single_example_results/single_example/15-01-2025-bottom-quartile-principles.csv\", index=False)"
   ]
  },
  {
   "cell_type": "code",
   "execution_count": 117,
   "metadata": {},
   "outputs": [
    {
     "name": "stdout",
     "output_type": "stream",
     "text": [
      "[1.0, 1.1, 1.2, 1.3, 1.4, 1.5]\n",
      "[8.0, 8.1, 8.2, 8.3, 8.4, 8.5, 8.6, 8.7, 8.8, 8.9, 9.0, 9.1, 9.2, 9.3, 9.4, 9.5, 9.6, 9.7, 9.8, 9.9, 10.0, 5.9, 6.0, 6.1, 6.2, 6.3, 6.4, 6.5, 6.6, 6.7, 6.8, 6.9, 7.0, 7.1, 7.2, 7.3, 7.4, 7.5, 7.6, 7.7, 7.8, 7.9, 3.9, 4.0, 4.1, 4.2, 4.3, 4.4, 4.5, 4.6, 4.7, 4.8, 4.9, 5.0, 5.1, 5.2, 5.3, 5.4, 5.5, 5.6, 5.7, 5.8]\n"
     ]
    },
    {
     "name": "stderr",
     "output_type": "stream",
     "text": [
      "/tmp/ipykernel_227619/4122970553.py:9: SettingWithCopyWarning: \n",
      "A value is trying to be set on a copy of a slice from a DataFrame\n",
      "\n",
      "See the caveats in the documentation: https://pandas.pydata.org/pandas-docs/stable/user_guide/indexing.html#returning-a-view-versus-a-copy\n",
      "  principles_df.rename(columns={'egal': 'rel', 'util': 'nonrel'}, inplace=True)\n"
     ]
    }
   ],
   "source": [
    "## General support and general opposition principles using quartiles\n",
    "for_scheme = positive_quartile_p_values['Q4'] + positive_quartile_p_values['Q3'] + positive_quartile_p_values['Q2']\n",
    "against_scheme = negative_quartile_p_values['Q1'] + negative_quartile_p_values['Q2'] + negative_quartile_p_values['Q3']\n",
    "print(for_scheme)\n",
    "print(against_scheme)\n",
    "df = range_principles(df, against_scheme, for_scheme)\n",
    "# Save the principles a file\n",
    "principles_df = df[['country', 'egal', 'util']]\n",
    "principles_df.rename(columns={'egal': 'rel', 'util': 'nonrel'}, inplace=True)\n",
    "principles_df.to_csv(\"/home/ia23938/Documents/GitHub/ValueSystemsAggregation/data/ess_example_data/single_example_results/single_example/15-01-2025-general-support-principles.csv\", index=False)"
   ]
  },
  {
   "cell_type": "code",
   "execution_count": 118,
   "metadata": {},
   "outputs": [
    {
     "name": "stdout",
     "output_type": "stream",
     "text": [
      "[8.0, 8.1, 8.2, 8.3, 8.4, 8.5, 8.6, 8.7, 8.8, 8.9, 9.0, 9.1, 9.2, 9.3, 9.4, 9.5, 9.6, 9.7, 9.8, 9.9, 10.0, 5.9, 6.0, 6.1, 6.2, 6.3, 6.4, 6.5, 6.6, 6.7, 6.8, 6.9, 7.0, 7.1, 7.2, 7.3, 7.4, 7.5, 7.6, 7.7, 7.8, 7.9, 3.9, 4.0, 4.1, 4.2, 4.3, 4.4, 4.5, 4.6, 4.7, 4.8, 4.9, 5.0, 5.1, 5.2, 5.3, 5.4, 5.5, 5.6, 5.7, 5.8]\n",
      "[1.0, 1.1, 1.2, 1.3, 1.4, 1.5]\n"
     ]
    },
    {
     "name": "stderr",
     "output_type": "stream",
     "text": [
      "/tmp/ipykernel_227619/3696312703.py:10: SettingWithCopyWarning: \n",
      "A value is trying to be set on a copy of a slice from a DataFrame\n",
      "\n",
      "See the caveats in the documentation: https://pandas.pydata.org/pandas-docs/stable/user_guide/indexing.html#returning-a-view-versus-a-copy\n",
      "  principles_df.rename(columns={'egal': 'rel', 'util': 'nonrel'}, inplace=True)\n"
     ]
    }
   ],
   "source": [
    "## General support and general opposition principles using quartiles\n",
    "against_scheme = positive_quartile_p_values['Q4'] + positive_quartile_p_values['Q3'] + positive_quartile_p_values['Q2']\n",
    "for_scheme = negative_quartile_p_values['Q1'] + negative_quartile_p_values['Q2'] + negative_quartile_p_values['Q3']\n",
    "\n",
    "print(for_scheme)\n",
    "print(against_scheme)\n",
    "df = range_principles(df, against_scheme, for_scheme)\n",
    "# Save the principles a file\n",
    "principles_df = df[['country', 'egal', 'util']]\n",
    "principles_df.rename(columns={'egal': 'rel', 'util': 'nonrel'}, inplace=True)\n",
    "principles_df.to_csv(\"/home/ia23938/Documents/GitHub/ValueSystemsAggregation/data/ess_example_data/single_example_results/single_example/15-01-2025-general-opposition-principles.csv\", index=False)"
   ]
  },
  {
   "cell_type": "code",
   "execution_count": 119,
   "metadata": {},
   "outputs": [
    {
     "name": "stdout",
     "output_type": "stream",
     "text": [
      "[1.0, 1.1, 1.2, 1.3]\n",
      "[8.0, 8.1, 8.2, 8.3, 8.4, 8.5, 8.6, 8.7, 8.8, 8.9, 9.0, 9.1, 9.2, 9.3, 9.4, 9.5, 9.6, 9.7, 9.8, 9.9, 10.0, 5.9, 6.0, 6.1, 6.2, 6.3, 6.4, 6.5, 6.6, 6.7, 6.8, 6.9, 7.0, 7.1, 7.2, 7.3, 7.4, 7.5, 7.6, 7.7, 7.8, 7.9]\n",
      "[8.0, 8.1, 8.2, 8.3, 8.4, 8.5, 8.6, 8.7, 8.8, 8.9, 9.0, 9.1, 9.2, 9.3, 9.4, 9.5, 9.6, 9.7, 9.8, 9.9, 10.0, 5.9, 6.0, 6.1, 6.2, 6.3, 6.4, 6.5, 6.6, 6.7, 6.8, 6.9, 7.0, 7.1, 7.2, 7.3, 7.4, 7.5, 7.6, 7.7, 7.8, 7.9]\n",
      "[1.0, 1.1, 1.2, 1.3]\n"
     ]
    },
    {
     "name": "stderr",
     "output_type": "stream",
     "text": [
      "/tmp/ipykernel_227619/3304912680.py:9: SettingWithCopyWarning: \n",
      "A value is trying to be set on a copy of a slice from a DataFrame\n",
      "\n",
      "See the caveats in the documentation: https://pandas.pydata.org/pandas-docs/stable/user_guide/indexing.html#returning-a-view-versus-a-copy\n",
      "  principles_df.rename(columns={'egal': 'rel', 'util': 'nonrel'}, inplace=True)\n",
      "/tmp/ipykernel_227619/3304912680.py:21: SettingWithCopyWarning: \n",
      "A value is trying to be set on a copy of a slice from a DataFrame\n",
      "\n",
      "See the caveats in the documentation: https://pandas.pydata.org/pandas-docs/stable/user_guide/indexing.html#returning-a-view-versus-a-copy\n",
      "  principles_df.rename(columns={'egal': 'rel', 'util': 'nonrel'}, inplace=True)\n"
     ]
    }
   ],
   "source": [
    "## General support and general opposition principles using quartiles\n",
    "for_scheme = positive_quartile_p_values['Q4'] + positive_quartile_p_values['Q3']\n",
    "against_scheme = negative_quartile_p_values['Q1'] + negative_quartile_p_values['Q2']\n",
    "print(for_scheme)\n",
    "print(against_scheme)\n",
    "df = range_principles(df, against_scheme, for_scheme)\n",
    "# Save the principles a file\n",
    "principles_df = df[['country', 'egal', 'util']]\n",
    "principles_df.rename(columns={'egal': 'rel', 'util': 'nonrel'}, inplace=True)\n",
    "principles_df.to_csv(\"/home/ia23938/Documents/GitHub/ValueSystemsAggregation/data/ess_example_data/single_example_results/single_example/15-01-2025-50-pc-support-principles.csv\", index=False)\n",
    "\n",
    "## General support and general opposition principles using quartiles\n",
    "against_scheme = positive_quartile_p_values['Q4'] + positive_quartile_p_values['Q3']\n",
    "for_scheme = negative_quartile_p_values['Q1'] + negative_quartile_p_values['Q2']\n",
    "\n",
    "print(for_scheme)\n",
    "print(against_scheme)\n",
    "df = range_principles(df, against_scheme, for_scheme)\n",
    "# Save the principles a file\n",
    "principles_df = df[['country', 'egal', 'util']]\n",
    "principles_df.rename(columns={'egal': 'rel', 'util': 'nonrel'}, inplace=True)\n",
    "principles_df.to_csv(\"/home/ia23938/Documents/GitHub/ValueSystemsAggregation/data/ess_example_data/single_example_results/single_example/15-01-2025-50-pc-opposition-principles.csv\", index=False)"
   ]
  }
 ],
 "metadata": {
  "kernelspec": {
   "display_name": "value-agg",
   "language": "python",
   "name": "python3"
  },
  "language_info": {
   "codemirror_mode": {
    "name": "ipython",
    "version": 3
   },
   "file_extension": ".py",
   "mimetype": "text/x-python",
   "name": "python",
   "nbconvert_exporter": "python",
   "pygments_lexer": "ipython3",
   "version": "3.11.9"
  }
 },
 "nbformat": 4,
 "nbformat_minor": 2
}
